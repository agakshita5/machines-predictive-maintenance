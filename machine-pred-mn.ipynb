{
 "cells": [
  {
   "cell_type": "markdown",
   "id": "2e8bb762-5dbd-4eab-9efe-4444de558bbc",
   "metadata": {},
   "source": [
    "**Column description:**\n",
    "\n",
    "footfall: The number of people or objects passing by the machine.\n",
    "\n",
    "tempMode: The temperature mode or setting of the machine.\n",
    "\n",
    "AQ: Air quality index near the machine.\n",
    "\n",
    "USS: Ultrasonic sensor data, indicating proximity measurements.\n",
    "\n",
    "CS: Current sensor readings, indicating the electrical current usage of the machine.\n",
    "\n",
    "VOC: Volatile organic compounds level detected near the machine.\n",
    "\n",
    "RP: Rotational position or RPM (revolutions per minute) of the machine parts.\n",
    "\n",
    "IP: Input pressure to the machine.\n",
    "\n",
    "Temperature: The operating temperature of the machine.\n",
    "\n",
    "fail: Binary indicator of machine failure (1 for failure, 0 for no failure)."
   ]
  },
  {
   "cell_type": "markdown",
   "id": "5e1a2df1-5bb2-4d80-adc4-2664ac3a9063",
   "metadata": {},
   "source": [
    "# import libraries & datasets"
   ]
  },
  {
   "cell_type": "code",
   "execution_count": 58,
   "id": "30d202f1-4202-4796-8511-219512123426",
   "metadata": {},
   "outputs": [],
   "source": [
    "import pandas as pd\n",
    "import numpy as np\n",
    "import matplotlib.pyplot as plt\n",
    "import seaborn as sn\n",
    "from sklearn.preprocessing import StandardScaler, MinMaxScaler\n",
    "from xgboost import XGBClassifier\n",
    "from sklearn.model_selection import train_test_split, cross_val_score, GridSearchCV\n",
    "from sklearn.metrics import classification_report, accuracy_score, confusion_matrix\n",
    "from tensorflow.keras.models import Sequential\n",
    "from tensorflow.keras.layers import LSTM, Dense\n",
    "from scipy.stats import chi2_contingency\n",
    "from imblearn.combine import SMOTETomek\n",
    "import streamlit as st\n",
    "import plotly.express as px\n",
    "from statsmodels.stats.proportion import proportion_confint\n",
    "import joblib\n",
    "import warnings\n",
    "warnings.filterwarnings('ignore')"
   ]
  },
  {
   "cell_type": "code",
   "execution_count": 31,
   "id": "5af3179e-3f11-46dc-bc63-25f59597660c",
   "metadata": {},
   "outputs": [],
   "source": [
    "df = pd.read_csv('data.csv')"
   ]
  },
  {
   "cell_type": "code",
   "execution_count": 32,
   "id": "f9e472be-dec7-4d0e-b289-3e846232bd9e",
   "metadata": {},
   "outputs": [
    {
     "data": {
      "text/html": [
       "<div>\n",
       "<style scoped>\n",
       "    .dataframe tbody tr th:only-of-type {\n",
       "        vertical-align: middle;\n",
       "    }\n",
       "\n",
       "    .dataframe tbody tr th {\n",
       "        vertical-align: top;\n",
       "    }\n",
       "\n",
       "    .dataframe thead th {\n",
       "        text-align: right;\n",
       "    }\n",
       "</style>\n",
       "<table border=\"1\" class=\"dataframe\">\n",
       "  <thead>\n",
       "    <tr style=\"text-align: right;\">\n",
       "      <th></th>\n",
       "      <th>footfall</th>\n",
       "      <th>tempMode</th>\n",
       "      <th>AQ</th>\n",
       "      <th>USS</th>\n",
       "      <th>CS</th>\n",
       "      <th>VOC</th>\n",
       "      <th>RP</th>\n",
       "      <th>IP</th>\n",
       "      <th>Temperature</th>\n",
       "      <th>fail</th>\n",
       "    </tr>\n",
       "  </thead>\n",
       "  <tbody>\n",
       "    <tr>\n",
       "      <th>0</th>\n",
       "      <td>0</td>\n",
       "      <td>7</td>\n",
       "      <td>7</td>\n",
       "      <td>1</td>\n",
       "      <td>6</td>\n",
       "      <td>6</td>\n",
       "      <td>36</td>\n",
       "      <td>3</td>\n",
       "      <td>1</td>\n",
       "      <td>1</td>\n",
       "    </tr>\n",
       "    <tr>\n",
       "      <th>1</th>\n",
       "      <td>190</td>\n",
       "      <td>1</td>\n",
       "      <td>3</td>\n",
       "      <td>3</td>\n",
       "      <td>5</td>\n",
       "      <td>1</td>\n",
       "      <td>20</td>\n",
       "      <td>4</td>\n",
       "      <td>1</td>\n",
       "      <td>0</td>\n",
       "    </tr>\n",
       "    <tr>\n",
       "      <th>2</th>\n",
       "      <td>31</td>\n",
       "      <td>7</td>\n",
       "      <td>2</td>\n",
       "      <td>2</td>\n",
       "      <td>6</td>\n",
       "      <td>1</td>\n",
       "      <td>24</td>\n",
       "      <td>6</td>\n",
       "      <td>1</td>\n",
       "      <td>0</td>\n",
       "    </tr>\n",
       "    <tr>\n",
       "      <th>3</th>\n",
       "      <td>83</td>\n",
       "      <td>4</td>\n",
       "      <td>3</td>\n",
       "      <td>4</td>\n",
       "      <td>5</td>\n",
       "      <td>1</td>\n",
       "      <td>28</td>\n",
       "      <td>6</td>\n",
       "      <td>1</td>\n",
       "      <td>0</td>\n",
       "    </tr>\n",
       "    <tr>\n",
       "      <th>4</th>\n",
       "      <td>640</td>\n",
       "      <td>7</td>\n",
       "      <td>5</td>\n",
       "      <td>6</td>\n",
       "      <td>4</td>\n",
       "      <td>0</td>\n",
       "      <td>68</td>\n",
       "      <td>6</td>\n",
       "      <td>1</td>\n",
       "      <td>0</td>\n",
       "    </tr>\n",
       "  </tbody>\n",
       "</table>\n",
       "</div>"
      ],
      "text/plain": [
       "   footfall  tempMode  AQ  USS  CS  VOC  RP  IP  Temperature  fail\n",
       "0         0         7   7    1   6    6  36   3            1     1\n",
       "1       190         1   3    3   5    1  20   4            1     0\n",
       "2        31         7   2    2   6    1  24   6            1     0\n",
       "3        83         4   3    4   5    1  28   6            1     0\n",
       "4       640         7   5    6   4    0  68   6            1     0"
      ]
     },
     "execution_count": 32,
     "metadata": {},
     "output_type": "execute_result"
    }
   ],
   "source": [
    "df.head()"
   ]
  },
  {
   "cell_type": "code",
   "execution_count": 33,
   "id": "d2e4f4b3-2022-43ed-b1ab-5268c0ca830a",
   "metadata": {},
   "outputs": [
    {
     "data": {
      "text/plain": [
       "(944, 10)"
      ]
     },
     "execution_count": 33,
     "metadata": {},
     "output_type": "execute_result"
    }
   ],
   "source": [
    "df.shape"
   ]
  },
  {
   "cell_type": "code",
   "execution_count": 34,
   "id": "2301eb53-591e-4cc0-8427-6acfb4961112",
   "metadata": {},
   "outputs": [
    {
     "data": {
      "text/plain": [
       "0    551\n",
       "1    393\n",
       "Name: fail, dtype: int64"
      ]
     },
     "execution_count": 34,
     "metadata": {},
     "output_type": "execute_result"
    }
   ],
   "source": [
    "df.fail.value_counts()"
   ]
  },
  {
   "cell_type": "markdown",
   "id": "10b8700f-0f44-4daf-a177-61ba273be944",
   "metadata": {},
   "source": [
    "imbalanced class, hence will do oversampling"
   ]
  },
  {
   "cell_type": "code",
   "execution_count": 74,
   "id": "cf5dbd3e-d4ab-4785-b62c-3ac70f20c5d2",
   "metadata": {},
   "outputs": [
    {
     "data": {
      "image/png": "[encoded data removed]",
      "text/plain": [
       "<Figure size 640x480 with 1 Axes>"
      ]
     },
     "metadata": {},
     "output_type": "display_data"
    }
   ],
   "source": [
    "plt.pie(df['fail'].value_counts(), labels=['No Failure','Failure'])\n",
    "plt.show()"
   ]
  },
  {
   "cell_type": "markdown",
   "id": "c34edc4b-ed2f-4df7-b795-b317736dc8c9",
   "metadata": {
    "jp-MarkdownHeadingCollapsed": true
   },
   "source": [
    "# data preprocessing "
   ]
  },
  {
   "cell_type": "code",
   "execution_count": 35,
   "id": "e1cda021-c12d-4ef3-aaac-59c6ca580252",
   "metadata": {},
   "outputs": [
    {
     "data": {
      "text/html": [
       "<div>\n",
       "<style scoped>\n",
       "    .dataframe tbody tr th:only-of-type {\n",
       "        vertical-align: middle;\n",
       "    }\n",
       "\n",
       "    .dataframe tbody tr th {\n",
       "        vertical-align: top;\n",
       "    }\n",
       "\n",
       "    .dataframe thead th {\n",
       "        text-align: right;\n",
       "    }\n",
       "</style>\n",
       "<table border=\"1\" class=\"dataframe\">\n",
       "  <thead>\n",
       "    <tr style=\"text-align: right;\">\n",
       "      <th></th>\n",
       "      <th>count</th>\n",
       "      <th>mean</th>\n",
       "      <th>std</th>\n",
       "      <th>min</th>\n",
       "      <th>25%</th>\n",
       "      <th>50%</th>\n",
       "      <th>75%</th>\n",
       "      <th>max</th>\n",
       "    </tr>\n",
       "  </thead>\n",
       "  <tbody>\n",
       "    <tr>\n",
       "      <th>footfall</th>\n",
       "      <td>944.0</td>\n",
       "      <td>306.381356</td>\n",
       "      <td>1082.606745</td>\n",
       "      <td>0.0</td>\n",
       "      <td>1.0</td>\n",
       "      <td>22.0</td>\n",
       "      <td>110.0</td>\n",
       "      <td>7300.0</td>\n",
       "    </tr>\n",
       "    <tr>\n",
       "      <th>tempMode</th>\n",
       "      <td>944.0</td>\n",
       "      <td>3.727754</td>\n",
       "      <td>2.677235</td>\n",
       "      <td>0.0</td>\n",
       "      <td>1.0</td>\n",
       "      <td>3.0</td>\n",
       "      <td>7.0</td>\n",
       "      <td>7.0</td>\n",
       "    </tr>\n",
       "    <tr>\n",
       "      <th>AQ</th>\n",
       "      <td>944.0</td>\n",
       "      <td>4.325212</td>\n",
       "      <td>1.438436</td>\n",
       "      <td>1.0</td>\n",
       "      <td>3.0</td>\n",
       "      <td>4.0</td>\n",
       "      <td>6.0</td>\n",
       "      <td>7.0</td>\n",
       "    </tr>\n",
       "    <tr>\n",
       "      <th>USS</th>\n",
       "      <td>944.0</td>\n",
       "      <td>2.939619</td>\n",
       "      <td>1.383725</td>\n",
       "      <td>1.0</td>\n",
       "      <td>2.0</td>\n",
       "      <td>3.0</td>\n",
       "      <td>4.0</td>\n",
       "      <td>7.0</td>\n",
       "    </tr>\n",
       "    <tr>\n",
       "      <th>CS</th>\n",
       "      <td>944.0</td>\n",
       "      <td>5.394068</td>\n",
       "      <td>1.269349</td>\n",
       "      <td>1.0</td>\n",
       "      <td>5.0</td>\n",
       "      <td>6.0</td>\n",
       "      <td>6.0</td>\n",
       "      <td>7.0</td>\n",
       "    </tr>\n",
       "    <tr>\n",
       "      <th>VOC</th>\n",
       "      <td>944.0</td>\n",
       "      <td>2.842161</td>\n",
       "      <td>2.273337</td>\n",
       "      <td>0.0</td>\n",
       "      <td>1.0</td>\n",
       "      <td>2.0</td>\n",
       "      <td>5.0</td>\n",
       "      <td>6.0</td>\n",
       "    </tr>\n",
       "    <tr>\n",
       "      <th>RP</th>\n",
       "      <td>944.0</td>\n",
       "      <td>47.043432</td>\n",
       "      <td>16.423130</td>\n",
       "      <td>19.0</td>\n",
       "      <td>34.0</td>\n",
       "      <td>44.0</td>\n",
       "      <td>58.0</td>\n",
       "      <td>91.0</td>\n",
       "    </tr>\n",
       "    <tr>\n",
       "      <th>IP</th>\n",
       "      <td>944.0</td>\n",
       "      <td>4.565678</td>\n",
       "      <td>1.599287</td>\n",
       "      <td>1.0</td>\n",
       "      <td>3.0</td>\n",
       "      <td>4.0</td>\n",
       "      <td>6.0</td>\n",
       "      <td>7.0</td>\n",
       "    </tr>\n",
       "    <tr>\n",
       "      <th>Temperature</th>\n",
       "      <td>944.0</td>\n",
       "      <td>16.331568</td>\n",
       "      <td>5.974781</td>\n",
       "      <td>1.0</td>\n",
       "      <td>14.0</td>\n",
       "      <td>17.0</td>\n",
       "      <td>21.0</td>\n",
       "      <td>24.0</td>\n",
       "    </tr>\n",
       "    <tr>\n",
       "      <th>fail</th>\n",
       "      <td>944.0</td>\n",
       "      <td>0.416314</td>\n",
       "      <td>0.493208</td>\n",
       "      <td>0.0</td>\n",
       "      <td>0.0</td>\n",
       "      <td>0.0</td>\n",
       "      <td>1.0</td>\n",
       "      <td>1.0</td>\n",
       "    </tr>\n",
       "  </tbody>\n",
       "</table>\n",
       "</div>"
      ],
      "text/plain": [
       "             count        mean          std   min   25%   50%    75%     max\n",
       "footfall     944.0  306.381356  1082.606745   0.0   1.0  22.0  110.0  7300.0\n",
       "tempMode     944.0    3.727754     2.677235   0.0   1.0   3.0    7.0     7.0\n",
       "AQ           944.0    4.325212     1.438436   1.0   3.0   4.0    6.0     7.0\n",
       "USS          944.0    2.939619     1.383725   1.0   2.0   3.0    4.0     7.0\n",
       "CS           944.0    5.394068     1.269349   1.0   5.0   6.0    6.0     7.0\n",
       "VOC          944.0    2.842161     2.273337   0.0   1.0   2.0    5.0     6.0\n",
       "RP           944.0   47.043432    16.423130  19.0  34.0  44.0   58.0    91.0\n",
       "IP           944.0    4.565678     1.599287   1.0   3.0   4.0    6.0     7.0\n",
       "Temperature  944.0   16.331568     5.974781   1.0  14.0  17.0   21.0    24.0\n",
       "fail         944.0    0.416314     0.493208   0.0   0.0   0.0    1.0     1.0"
      ]
     },
     "execution_count": 35,
     "metadata": {},
     "output_type": "execute_result"
    }
   ],
   "source": [
    "df.describe().T"
   ]
  },
  {
   "cell_type": "code",
   "execution_count": 36,
   "id": "34b12f93-794f-4ecb-aeaa-985e3ed79c9a",
   "metadata": {},
   "outputs": [],
   "source": [
    "# removing duplicates\n",
    "df.drop_duplicates(inplace=True)\n",
    "\n",
    "# converting cols to lowercase\n",
    "df.columns = df.columns.str.lower()"
   ]
  },
  {
   "cell_type": "markdown",
   "id": "2f996a18-c24e-4b54-a113-d99fb45894ce",
   "metadata": {},
   "source": [
    "# predictive modeling using XGBoost"
   ]
  },
  {
   "cell_type": "code",
   "execution_count": null,
   "id": "03e24e07-b3cc-4419-933b-8423b58f7f5a",
   "metadata": {},
   "outputs": [],
   "source": [
    "features = ['footfall', 'tempmode', 'aq', 'uss', 'cs']\n",
    "X = df[features]\n",
    "y = df['fail']\n",
    "\n",
    "# normalizing features\n",
    "scaler = MinMaxScaler()\n",
    "X_scaled = scaler.fit_transform(X)\n",
    "\n",
    "# oversampling \n",
    "smote = SMOTETomek(random_state=42)\n",
    "X_res, y_res = smote.fit_resample(X_scaled, y)\n",
    "\n",
    "# splitting data \n",
    "X_train, X_test, y_train, y_test = train_test_split(X_res, y_res, test_size=0.2, random_state=42)\n",
    "\n",
    "# training xgboost model\n",
    "xgb = XGBClassifier(n_estimators=100, max_depth=7, learning_rate=0.3, random_state=42)\n",
    "xgb.fit(X_train, y_train)\n",
    "y_pred = xgb.predict(X_test)"
   ]
  },
  {
   "cell_type": "code",
   "execution_count": 56,
   "id": "47b49438-6c16-4be6-aa1b-b3278d8ca180",
   "metadata": {},
   "outputs": [
    {
     "name": "stdout",
     "output_type": "stream",
     "text": [
      "Cross-Validation Accuracy: 0.8886 ± 0.0445\n"
     ]
    }
   ],
   "source": [
    "cv_scores = cross_val_score(xgb, X_res, y_res, cv=5, scoring='accuracy')\n",
    "print(f\"Cross-Validation Accuracy: {cv_scores.mean():.4f} ± {cv_scores.std() * 2:.4f}\")"
   ]
  },
  {
   "cell_type": "code",
   "execution_count": 53,
   "id": "825303d0-5de9-4f29-80a3-c4e600019c40",
   "metadata": {},
   "outputs": [
    {
     "name": "stdout",
     "output_type": "stream",
     "text": [
      "Classification Report:\n",
      "\n",
      "               precision    recall  f1-score   support\n",
      "\n",
      "           0       0.93      0.91      0.92       108\n",
      "           1       0.90      0.93      0.92        99\n",
      "\n",
      "    accuracy                           0.92       207\n",
      "   macro avg       0.92      0.92      0.92       207\n",
      "weighted avg       0.92      0.92      0.92       207\n",
      "\n",
      "Confusion Matrix:\n",
      "\n",
      " [[98 10]\n",
      " [ 7 92]]\n",
      "\n",
      "Accuracy: 0.9178743961352657\n"
     ]
    }
   ],
   "source": [
    "# evaluation\n",
    "print('Classification Report:\\n\\n',classification_report(y_test, y_pred))\n",
    "\n",
    "print('Confusion Matrix:\\n\\n',confusion_matrix(y_test,y_pred))\n",
    "\n",
    "print('\\nAccuracy:',accuracy_score(y_test,y_pred))"
   ]
  },
  {
   "cell_type": "markdown",
   "id": "16d8b697-6864-4e0a-8082-0b8494181154",
   "metadata": {},
   "source": [
    "#### Goal is to predict failures for maintenance in advance, and while timestamps are absent, A/B testing can simulate maintenance strategies using failure probabilities. "
   ]
  },
  {
   "cell_type": "code",
   "execution_count": 41,
   "id": "30cda7c5-0275-4374-953c-97e37eee9451",
   "metadata": {},
   "outputs": [
    {
     "name": "stdout",
     "output_type": "stream",
     "text": [
      "Threshold 0.5: Missed Failures = 7, Unnecessary Maintenance = 10\n",
      "Threshold 0.7: Missed Failures = 9, Unnecessary Maintenance = 8\n",
      "Threshold 0.9: Missed Failures = 17, Unnecessary Maintenance = 5\n"
     ]
    }
   ],
   "source": [
    "# A/B testing\n",
    "# predicting probabilities\n",
    "y_pred_proba = xgb.predict_proba(X_test)[:, 1]\n",
    "\n",
    "# Define thresholds: 0.7 for urgent maintenance, 0.5 for monitoring \n",
    "thresholds = [0.5, 0.7, 0.9]\n",
    "for thresh in thresholds:\n",
    "    y_pred = (y_pred_proba > thresh).astype(int)\n",
    "    cm = confusion_matrix(y_test, y_pred)\n",
    "    missed_failures = cm[1, 0]  # False negatives\n",
    "    unnecessary_maintenance = cm[0, 1]  # False positives\n",
    "    print(f\"Threshold {thresh}: Missed Failures = {missed_failures}, Unnecessary Maintenance = {unnecessary_maintenance}\")"
   ]
  },
  {
   "cell_type": "markdown",
   "id": "57934c42-3018-468c-82f1-7e59bc0396b6",
   "metadata": {},
   "source": [
    "* Threshold 0.5 - MONITORING\n",
    "* Threshold 0.7 - URGENT MAINTENANCE\n",
    "* Threshold >0.7 - REPLACEMENT REQUIRED"
   ]
  },
  {
   "cell_type": "markdown",
   "id": "d9674e14-1463-4559-a4df-ed039619d1de",
   "metadata": {},
   "source": [
    "#### Statistical validation\n",
    "Confidence intervals for model accuracy assess how reliable our failure predictions are, ensuring trust in maintenance decisions for machines. eg, A 95% CI means there’s a 95% chance the true accuracy lies within the interval."
   ]
  },
  {
   "cell_type": "code",
   "execution_count": 75,
   "id": "29d87d3d-8287-4ab8-891c-5510b6181a0a",
   "metadata": {},
   "outputs": [
    {
     "name": "stdout",
     "output_type": "stream",
     "text": [
      "Accuracy: 0.9179, 95% CI: (0.8724, 0.9481)\n"
     ]
    }
   ],
   "source": [
    "# confidence intervals\n",
    "y_pred = xgb.predict(X_test)\n",
    "correct = np.sum(y_test == y_pred)\n",
    "n = len(y_test)\n",
    "accuracy = correct / n\n",
    "ci_low, ci_high = proportion_confint(correct, n, alpha=0.05, method='wilson')\n",
    "print(f\"Accuracy: {accuracy:.4f}, 95% CI: ({ci_low:.4f}, {ci_high:.4f})\")"
   ]
  },
  {
   "cell_type": "code",
   "execution_count": 48,
   "id": "f2366ee1-b758-4727-baf6-d7ba9889eb6b",
   "metadata": {},
   "outputs": [
    {
     "data": {
      "image/png": "[encoded data removed]",
      "text/plain": [
       "<Figure size 640x480 with 1 Axes>"
      ]
     },
     "metadata": {},
     "output_type": "display_data"
    }
   ],
   "source": [
    "importances = xgb.feature_importances_\n",
    "plt.bar(features, importances)\n",
    "plt.xticks(rotation=45)\n",
    "plt.title(\"Feature Importance\")\n",
    "plt.show()"
   ]
  },
  {
   "cell_type": "markdown",
   "id": "24d97bc8-e93d-4696-bd91-4f062d64edc4",
   "metadata": {},
   "source": [
    "## 📌 Air Quality Index (AQ) is the most important feature followed by Ultrasonic Sensor (USS) and Current Sensor (CS)"
   ]
  },
  {
   "cell_type": "markdown",
   "id": "49b6462b-2a79-4b14-b7b8-1466aaa04fa5",
   "metadata": {},
   "source": [
    "# Save the model"
   ]
  },
  {
   "cell_type": "code",
   "execution_count": 57,
   "id": "7fd52e83-871e-4a49-b751-c1fe9e24d471",
   "metadata": {},
   "outputs": [
    {
     "data": {
      "text/plain": [
       "['xgb_model_static.pkl']"
      ]
     },
     "execution_count": 57,
     "metadata": {},
     "output_type": "execute_result"
    }
   ],
   "source": [
    "joblib.dump(xgb, 'xgb_model_static.pkl')"
   ]
  },
  {
   "cell_type": "markdown",
   "id": "ea0150b8-43a9-4208-8042-d15ddbbe9fe0",
   "metadata": {
    "jp-MarkdownHeadingCollapsed": true
   },
   "source": [
    "# LSTM"
   ]
  },
  {
   "cell_type": "code",
   "execution_count": 128,
   "id": "3a9002ac-0ed3-4d07-bdb8-d1d7868acd06",
   "metadata": {},
   "outputs": [
    {
     "data": {
      "text/html": [
       "<div>\n",
       "<style scoped>\n",
       "    .dataframe tbody tr th:only-of-type {\n",
       "        vertical-align: middle;\n",
       "    }\n",
       "\n",
       "    .dataframe tbody tr th {\n",
       "        vertical-align: top;\n",
       "    }\n",
       "\n",
       "    .dataframe thead th {\n",
       "        text-align: right;\n",
       "    }\n",
       "</style>\n",
       "<table border=\"1\" class=\"dataframe\">\n",
       "  <thead>\n",
       "    <tr style=\"text-align: right;\">\n",
       "      <th></th>\n",
       "      <th>footfall</th>\n",
       "      <th>tempmode</th>\n",
       "      <th>aq</th>\n",
       "      <th>uss</th>\n",
       "      <th>cs</th>\n",
       "      <th>voc</th>\n",
       "      <th>rp</th>\n",
       "      <th>ip</th>\n",
       "      <th>temperature</th>\n",
       "      <th>fail</th>\n",
       "    </tr>\n",
       "  </thead>\n",
       "  <tbody>\n",
       "    <tr>\n",
       "      <th>0</th>\n",
       "      <td>0</td>\n",
       "      <td>7</td>\n",
       "      <td>7</td>\n",
       "      <td>1</td>\n",
       "      <td>6</td>\n",
       "      <td>6</td>\n",
       "      <td>36</td>\n",
       "      <td>3</td>\n",
       "      <td>1</td>\n",
       "      <td>1</td>\n",
       "    </tr>\n",
       "    <tr>\n",
       "      <th>1</th>\n",
       "      <td>190</td>\n",
       "      <td>1</td>\n",
       "      <td>3</td>\n",
       "      <td>3</td>\n",
       "      <td>5</td>\n",
       "      <td>1</td>\n",
       "      <td>20</td>\n",
       "      <td>4</td>\n",
       "      <td>1</td>\n",
       "      <td>0</td>\n",
       "    </tr>\n",
       "    <tr>\n",
       "      <th>2</th>\n",
       "      <td>31</td>\n",
       "      <td>7</td>\n",
       "      <td>2</td>\n",
       "      <td>2</td>\n",
       "      <td>6</td>\n",
       "      <td>1</td>\n",
       "      <td>24</td>\n",
       "      <td>6</td>\n",
       "      <td>1</td>\n",
       "      <td>0</td>\n",
       "    </tr>\n",
       "    <tr>\n",
       "      <th>3</th>\n",
       "      <td>83</td>\n",
       "      <td>4</td>\n",
       "      <td>3</td>\n",
       "      <td>4</td>\n",
       "      <td>5</td>\n",
       "      <td>1</td>\n",
       "      <td>28</td>\n",
       "      <td>6</td>\n",
       "      <td>1</td>\n",
       "      <td>0</td>\n",
       "    </tr>\n",
       "    <tr>\n",
       "      <th>4</th>\n",
       "      <td>640</td>\n",
       "      <td>7</td>\n",
       "      <td>5</td>\n",
       "      <td>6</td>\n",
       "      <td>4</td>\n",
       "      <td>0</td>\n",
       "      <td>68</td>\n",
       "      <td>6</td>\n",
       "      <td>1</td>\n",
       "      <td>0</td>\n",
       "    </tr>\n",
       "  </tbody>\n",
       "</table>\n",
       "</div>"
      ],
      "text/plain": [
       "   footfall  tempmode  aq  uss  cs  voc  rp  ip  temperature  fail\n",
       "0         0         7   7    1   6    6  36   3            1     1\n",
       "1       190         1   3    3   5    1  20   4            1     0\n",
       "2        31         7   2    2   6    1  24   6            1     0\n",
       "3        83         4   3    4   5    1  28   6            1     0\n",
       "4       640         7   5    6   4    0  68   6            1     0"
      ]
     },
     "execution_count": 128,
     "metadata": {},
     "output_type": "execute_result"
    }
   ],
   "source": [
    "df.head()"
   ]
  },
  {
   "cell_type": "code",
   "execution_count": 141,
   "id": "2f2269e0-e71f-4e5b-9845-cd9f7014aa8e",
   "metadata": {
    "scrolled": true
   },
   "outputs": [
    {
     "name": "stdout",
     "output_type": "stream",
     "text": [
      "Epoch 1/10\n",
      "\u001b[1m21/21\u001b[0m \u001b[32m━━━━━━━━━━━━━━━━━━━━\u001b[0m\u001b[37m\u001b[0m \u001b[1m1s\u001b[0m 6ms/step - accuracy: 0.5651 - loss: 0.6855 - val_accuracy: 0.4909 - val_loss: 0.6900\n",
      "Epoch 2/10\n",
      "\u001b[1m21/21\u001b[0m \u001b[32m━━━━━━━━━━━━━━━━━━━━\u001b[0m\u001b[37m\u001b[0m \u001b[1m0s\u001b[0m 2ms/step - accuracy: 0.5775 - loss: 0.6762 - val_accuracy: 0.5333 - val_loss: 0.6847\n",
      "Epoch 3/10\n",
      "\u001b[1m21/21\u001b[0m \u001b[32m━━━━━━━━━━━━━━━━━━━━\u001b[0m\u001b[37m\u001b[0m \u001b[1m0s\u001b[0m 2ms/step - accuracy: 0.6496 - loss: 0.6650 - val_accuracy: 0.4909 - val_loss: 0.6880\n",
      "Epoch 4/10\n",
      "\u001b[1m21/21\u001b[0m \u001b[32m━━━━━━━━━━━━━━━━━━━━\u001b[0m\u001b[37m\u001b[0m \u001b[1m0s\u001b[0m 2ms/step - accuracy: 0.6206 - loss: 0.6482 - val_accuracy: 0.5636 - val_loss: 0.6852\n",
      "Epoch 5/10\n",
      "\u001b[1m21/21\u001b[0m \u001b[32m━━━━━━━━━━━━━━━━━━━━\u001b[0m\u001b[37m\u001b[0m \u001b[1m0s\u001b[0m 2ms/step - accuracy: 0.6775 - loss: 0.6172 - val_accuracy: 0.5455 - val_loss: 0.7045\n",
      "Epoch 6/10\n",
      "\u001b[1m21/21\u001b[0m \u001b[32m━━━━━━━━━━━━━━━━━━━━\u001b[0m\u001b[37m\u001b[0m \u001b[1m0s\u001b[0m 2ms/step - accuracy: 0.6124 - loss: 0.6295 - val_accuracy: 0.5697 - val_loss: 0.7019\n",
      "Epoch 7/10\n",
      "\u001b[1m21/21\u001b[0m \u001b[32m━━━━━━━━━━━━━━━━━━━━\u001b[0m\u001b[37m\u001b[0m \u001b[1m0s\u001b[0m 2ms/step - accuracy: 0.6114 - loss: 0.6504 - val_accuracy: 0.5455 - val_loss: 0.6962\n",
      "Epoch 8/10\n",
      "\u001b[1m21/21\u001b[0m \u001b[32m━━━━━━━━━━━━━━━━━━━━\u001b[0m\u001b[37m\u001b[0m \u001b[1m0s\u001b[0m 2ms/step - accuracy: 0.6617 - loss: 0.6158 - val_accuracy: 0.5515 - val_loss: 0.7060\n",
      "Epoch 9/10\n",
      "\u001b[1m21/21\u001b[0m \u001b[32m━━━━━━━━━━━━━━━━━━━━\u001b[0m\u001b[37m\u001b[0m \u001b[1m0s\u001b[0m 2ms/step - accuracy: 0.6573 - loss: 0.6185 - val_accuracy: 0.4970 - val_loss: 0.7162\n",
      "Epoch 10/10\n",
      "\u001b[1m21/21\u001b[0m \u001b[32m━━━━━━━━━━━━━━━━━━━━\u001b[0m\u001b[37m\u001b[0m \u001b[1m0s\u001b[0m 2ms/step - accuracy: 0.6499 - loss: 0.6260 - val_accuracy: 0.5030 - val_loss: 0.7230\n",
      "\u001b[1m7/7\u001b[0m \u001b[32m━━━━━━━━━━━━━━━━━━━━\u001b[0m\u001b[37m\u001b[0m \u001b[1m0s\u001b[0m 8ms/step \n"
     ]
    }
   ],
   "source": [
    "features = ['footfall', 'tempmode', 'aq', 'uss', 'cs']\n",
    "X = df[features].values\n",
    "y= df['fail'].values\n",
    "\n",
    "# normalizing features\n",
    "scaler = MinMaxScaler()\n",
    "X_scaled = scaler.fit_transform(X)\n",
    "\n",
    "# oversampling \n",
    "smote = SMOTETomek(random_state=42)\n",
    "X_res, y_res = smote.fit_resample(X_scaled, y)\n",
    "\n",
    "# Create sequences (e.g., 5 time steps)\n",
    "def create_sequences(X, y, time_steps=5):\n",
    "    Xs, ys = [], []\n",
    "    for i in range(len(X) - time_steps):\n",
    "        Xs.append(X[i:(i + time_steps)])\n",
    "        ys.append(y[i + time_steps])\n",
    "    return np.array(Xs), np.array(ys)\n",
    "\n",
    "time_steps = 5\n",
    "X_seq, y_seq = create_sequences(X_res, y_res)\n",
    "\n",
    "# splitting data\n",
    "X_train, X_test, y_train, y_test = train_test_split(X_seq, y_seq, test_size=0.2, random_state=42)\n",
    "\n",
    "# buliding and training LSTM model\n",
    "model = Sequential()\n",
    "model.add(LSTM(50, activation='relu', input_shape=(time_steps, len(features))))\n",
    "model.add(Dense(1, activation='sigmoid'))\n",
    "model.compile(optimizer='adam', loss='binary_crossentropy', metrics=['accuracy'])\n",
    "\n",
    "model.fit(X_train, y_train, epochs=10, batch_size=32, validation_split=0.2)\n",
    "y_pred = (model.predict(X_test) > 0.5).astype(int)"
   ]
  },
  {
   "cell_type": "code",
   "execution_count": 142,
   "id": "980d5caf-d807-476d-96f6-96c4e062b722",
   "metadata": {},
   "outputs": [
    {
     "name": "stdout",
     "output_type": "stream",
     "text": [
      "Classification Report:\n",
      "\n",
      "               precision    recall  f1-score   support\n",
      "\n",
      "           0       0.70      0.61      0.65       114\n",
      "           1       0.58      0.67      0.62        92\n",
      "\n",
      "    accuracy                           0.64       206\n",
      "   macro avg       0.64      0.64      0.64       206\n",
      "weighted avg       0.64      0.64      0.64       206\n",
      "\n",
      "Confusion Matrix:\n",
      "\n",
      " [[69 45]\n",
      " [30 62]]\n",
      "\n",
      "Accuracy: 0.6359223300970874\n"
     ]
    }
   ],
   "source": [
    "# Evaluate\n",
    "print('Classification Report:\\n\\n',classification_report(y_test, y_pred))\n",
    "\n",
    "print('Confusion Matrix:\\n\\n',confusion_matrix(y_test,y_pred))\n",
    "\n",
    "print('\\nAccuracy:',accuracy_score(y_test,y_pred))"
   ]
  },
  {
   "cell_type": "markdown",
   "id": "6ceeec5a-b267-42a6-82ee-305265b4e723",
   "metadata": {},
   "source": [
    "# ‼️ LSTM underperformed XGBoost due to some limitations, like lack of timestamps in the data"
   ]
  }
 ],
 "metadata": {
  "kernelspec": {
   "display_name": "Python 3 (ipykernel)",
   "language": "python",
   "name": "python3"
  },
  "language_info": {
   "codemirror_mode": {
    "name": "ipython",
    "version": 3
   },
   "file_extension": ".py",
   "mimetype": "text/x-python",
   "name": "python",
   "nbconvert_exporter": "python",
   "pygments_lexer": "ipython3",
   "version": "3.12.4"
  }
 },
 "nbformat": 4,
 "nbformat_minor": 5
}
